{
  "nbformat": 4,
  "nbformat_minor": 0,
  "metadata": {
    "colab": {
      "name": "Untitled16.ipynb",
      "provenance": [],
      "authorship_tag": "ABX9TyNBWQpYYf+cwu9EIaaIIbt0",
      "include_colab_link": true
    },
    "kernelspec": {
      "name": "python3",
      "display_name": "Python 3"
    }
  },
  "cells": [
    {
      "cell_type": "markdown",
      "metadata": {
        "id": "view-in-github",
        "colab_type": "text"
      },
      "source": [
        "<a href=\"https://colab.research.google.com/github/maharjansuraj/Assignment1/blob/master/Untitled16.ipynb\" target=\"_parent\"><img src=\"https://colab.research.google.com/assets/colab-badge.svg\" alt=\"Open In Colab\"/></a>"
      ]
    },
    {
      "cell_type": "code",
      "metadata": {
        "id": "8aFi-tdmaXKF",
        "colab_type": "code",
        "colab": {
          "base_uri": "https://localhost:8080/",
          "height": 153
        },
        "outputId": "a564c8f6-239c-418f-eb98-673194679b72"
      },
      "source": [
        "sathi=input(\"Beer Khwa na : \")\n",
        "\n",
        "while sathi!=\"la la hunchha\":\n",
        "  sathi=input(\"Beer Khwa na : \")\n",
        "\n",
        "print(\"Timi chai mero pakka sathi ho k!!!!\")"
      ],
      "execution_count": 21,
      "outputs": [
        {
          "output_type": "stream",
          "text": [
            "Beer Khwa na : paisa chhaina k\n",
            "Beer Khwa na : hijo matrai paisa diyeko ta\n",
            "Beer Khwa na : aaja kaam ma janu chha k\n",
            "Beer Khwa na : malai tauko dukhira chha hou\n",
            "Beer Khwa na : katti karaia k\n",
            "Beer Khwa na : voli kham na hunna\n",
            "Beer Khwa na : la la hunchha\n",
            "Timi chai mero pakka sathi ho k!!!!\n"
          ],
          "name": "stdout"
        }
      ]
    },
    {
      "cell_type": "code",
      "metadata": {
        "id": "jivtOxeaXpeS",
        "colab_type": "code",
        "colab": {
          "base_uri": "https://localhost:8080/",
          "height": 170
        },
        "outputId": "1fefd31d-849b-4bd3-90c9-c92c7aed3a1a"
      },
      "source": [
        "num=1\n",
        "while num<=15:\n",
        "  print(num)\n",
        "\n",
        "  if num==9:\n",
        "    break\n",
        "\n",
        "  \n",
        "  num=num+1\n",
        "\n",
        "  \n"
      ],
      "execution_count": 14,
      "outputs": [
        {
          "output_type": "stream",
          "text": [
            "1\n",
            "2\n",
            "3\n",
            "4\n",
            "5\n",
            "6\n",
            "7\n",
            "8\n",
            "9\n"
          ],
          "name": "stdout"
        }
      ]
    },
    {
      "cell_type": "code",
      "metadata": {
        "id": "4fV8FiJDW1lB",
        "colab_type": "code",
        "colab": {
          "base_uri": "https://localhost:8080/",
          "height": 68
        },
        "outputId": "e68a845f-6a11-40eb-d14a-cb54a5a64dfa"
      },
      "source": [
        "for letter in \"suraj\":\n",
        "  \n",
        "  if letter==\"u\":\n",
        "    continue\n",
        "\n",
        "  if letter==\"a\":\n",
        "    break\n",
        "    \n",
        "  print(letter)\n",
        "\n",
        "\n",
        "print(\"last ko line\")"
      ],
      "execution_count": 9,
      "outputs": [
        {
          "output_type": "stream",
          "text": [
            "s\n",
            "r\n",
            "last ko line\n"
          ],
          "name": "stdout"
        }
      ]
    },
    {
      "cell_type": "code",
      "metadata": {
        "id": "GRpYHkYmVyqx",
        "colab_type": "code",
        "colab": {
          "base_uri": "https://localhost:8080/",
          "height": 102
        },
        "outputId": "55485694-bb4b-4aba-8acd-73eaf4478f0a"
      },
      "source": [
        "for letter in \"suraj\":\n",
        "  \n",
        "  if letter==\"a\":\n",
        "    continue\n",
        "  print(letter)\n",
        "\n",
        "\n",
        "print(\"last ko line\")"
      ],
      "execution_count": 8,
      "outputs": [
        {
          "output_type": "stream",
          "text": [
            "s\n",
            "u\n",
            "r\n",
            "j\n",
            "last ko line\n"
          ],
          "name": "stdout"
        }
      ]
    },
    {
      "cell_type": "code",
      "metadata": {
        "id": "RXjrAxikUZTf",
        "colab_type": "code",
        "colab": {
          "base_uri": "https://localhost:8080/",
          "height": 136
        },
        "outputId": "ee8675d7-3f52-4cd0-fda8-62c4119b5fff"
      },
      "source": [
        "for i in range(7):\n",
        "  \n",
        "  if i==3:\n",
        "    continue\n",
        "  print(i)\n",
        "\n",
        "print(\"Out of loop\")"
      ],
      "execution_count": 4,
      "outputs": [
        {
          "output_type": "stream",
          "text": [
            "0\n",
            "1\n",
            "2\n",
            "4\n",
            "5\n",
            "6\n",
            "Out of loop\n"
          ],
          "name": "stdout"
        }
      ]
    },
    {
      "cell_type": "code",
      "metadata": {
        "id": "obEcbR5jSaWd",
        "colab_type": "code",
        "colab": {
          "base_uri": "https://localhost:8080/",
          "height": 102
        },
        "outputId": "38b416f9-0b60-4204-b8f7-e085ccbfaf13"
      },
      "source": [
        "for i in range(7):\n",
        "  print(i)\n",
        "  if i==3:\n",
        "    break\n",
        "\n",
        "print(\"Out of loop\")"
      ],
      "execution_count": 3,
      "outputs": [
        {
          "output_type": "stream",
          "text": [
            "0\n",
            "1\n",
            "2\n",
            "3\n",
            "Out of loop\n"
          ],
          "name": "stdout"
        }
      ]
    }
  ]
}