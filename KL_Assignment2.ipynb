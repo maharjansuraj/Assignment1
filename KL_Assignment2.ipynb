{
  "nbformat": 4,
  "nbformat_minor": 0,
  "metadata": {
    "colab": {
      "name": "KL_Assignment2.ipynb",
      "provenance": [],
      "include_colab_link": true
    },
    "kernelspec": {
      "name": "python3",
      "display_name": "Python 3"
    }
  },
  "cells": [
    {
      "cell_type": "markdown",
      "metadata": {
        "id": "view-in-github",
        "colab_type": "text"
      },
      "source": [
        "<a href=\"https://colab.research.google.com/github/maharjansuraj/Assignment1/blob/master/KL_Assignment2.ipynb\" target=\"_parent\"><img src=\"https://colab.research.google.com/assets/colab-badge.svg\" alt=\"Open In Colab\"/></a>"
      ]
    },
    {
      "cell_type": "markdown",
      "metadata": {
        "id": "5XIuOFpuJjoB",
        "colab_type": "text"
      },
      "source": [
        "# **Assignment 2: Arrays and Loops**\n",
        "#### *Contact: Kaushik Mishra (Slack) for clarification.*\n",
        "Greetings,\n",
        "\n",
        "Welcome to the second assignment. Congratulation on making through the first assignment. First of all, apologies about the dealy on this assignment.\n",
        "\n",
        "This assignment will be focused on **Arrays and Loops**. Here are all the topics that we will cover:\n",
        "\n",
        "1. Array data structure (also called `list` in python)\n",
        "2. `for` loops\n"
      ]
    },
    {
      "cell_type": "markdown",
      "metadata": {
        "id": "W2l1szhvHXf7",
        "colab_type": "text"
      },
      "source": [
        "# Getting Started\n",
        "Make a copy of this lab. Go to **File** -> **Save a copy in Drive**\n",
        " "
      ]
    },
    {
      "cell_type": "markdown",
      "metadata": {
        "id": "Lnhcamp1xy1A",
        "colab_type": "text"
      },
      "source": [
        "# Task 1: I love Chaudhary Group for Wai Wai:\n",
        "Remeber those beautiful days in school (if you are still in school, cherish it) when you ate noodles like \"Wai Wai\" or my favorite \"Quicks\" for lunch. We need to thank \"Chaudhary Group\" for making our childhood \"Noodle-some\". So, you have been given a list of noodles in a store. If you see \"Wai Wai\" you should say \"Thank you CG for Wai Wai.\" and if you see \"Quicks\" you should say \"Thank you CG for Quicks.\""
      ]
    },
    {
      "cell_type": "code",
      "metadata": {
        "id": "qpJ4fK-30bJq",
        "colab_type": "code",
        "colab": {}
      },
      "source": [
        "list_of_noodles = [\"Hurray\", \"Wai Wai\", \"Rum Pum\", \"Quicks\", \"Ramen\", \"Wai Wai\"]\n",
        "# Your code goes here.\n",
        "\n",
        "\n",
        "\n",
        "\n",
        "\n"
      ],
      "execution_count": 0,
      "outputs": []
    },
    {
      "cell_type": "markdown",
      "metadata": {
        "id": "LqtYbmS21JOG",
        "colab_type": "text"
      },
      "source": [
        "# Task 2: 1 Less than 1 Million - Money Heist\n",
        "We are playing a game of cards. You have 1 Million cards each numbered from 1 to 1,000,000. I stole one of your cards at random, now you have \"1 Less than 1 Million cards\". If you correctly tell me what card it is you win. Else you loose. Your job is to find the lost card.\n",
        "\n",
        "#### Bella Ciao (Bella Chao)!"
      ]
    },
    {
      "cell_type": "code",
      "metadata": {
        "id": "HOtuUQ_f3h2P",
        "colab_type": "code",
        "colab": {}
      },
      "source": [
        "# This code will steal one of your cards. (Don't worry if you dont understand this code.)\n",
        "from random import shuffle, randrange\n",
        "import random\n",
        "random.seed(0)\n",
        "cards = list(range(1,1000001))\n",
        "shuffle(cards)\n",
        "cards.pop(randrange(len(cards)))\n",
        "\n",
        "# Now you have only 999999 cards remaiming. Find the card that was stolen and you win.\n",
        "#  Your code goes here:\n",
        "1,2,3,4,5\n",
        "Original  = [4,2,3,1,5] = 1+2+3+4+5\n",
        "\n",
        "\n",
        "\n",
        "after =     [2,3,1,5]   = 1+2+3+5\n",
        "\n",
        "1) Org_sum = formula(1,1M)\n",
        "2) after_sum = for loop\n",
        "3) print(org -  after)\n",
        "\n",
        "\n",
        "\n",
        "\n"
      ],
      "execution_count": 0,
      "outputs": []
    },
    {
      "cell_type": "markdown",
      "metadata": {
        "id": "re_3CMKt7_3b",
        "colab_type": "text"
      },
      "source": [
        "# Task 3: Aryabhata's Favorite Number\n",
        "You have been appointed as Aryabhata's assistant (Congratulations!). Aryabhata loves numbers. In fact, he has a soft corner for the number zero - 0. (Turns out that its my professor's favorite number as well. He keeps giving the zeros in all my tests. Quite Remarkable but lets move on).\n",
        "Aryabhata puts all his favorite numbers in a list called `favorite_number.` Your job is to find two such numbers in the list that sum to zero to make Aryabhata happy.\n",
        "\n",
        "Remember one thing in life: \"Opposites attract.\" ;)\n",
        "\n",
        "```python\n",
        "# For Example\n",
        "favorite_number = [-1,3,4,2,0,9,3,1]\n",
        "output: (-1,1)\n",
        "# Note that there could be more than one answer. So, any answer that satisfies the condition is fine. \n",
        "# In our case we will only have one answer.\n",
        "```\n"
      ]
    },
    {
      "cell_type": "code",
      "metadata": {
        "id": "D_yIL7Ao-is9",
        "colab_type": "code",
        "colab": {}
      },
      "source": [
        "# Aryabhata generated his list of favorite cards. (Don't worry if you don't understand this code.)\n",
        "from random import shuffle, randrange\n",
        "import random\n",
        "random.seed(0)\n",
        "favorite_numbers = list(range(-1000,1001,1))\n",
        "shuffle(favorite_numbers)\n",
        "favorite_numbers[randrange(len(favorite_numbers))] *= -1\n",
        "\n",
        "# Your code goes here:\n",
        "\n"
      ],
      "execution_count": 0,
      "outputs": []
    },
    {
      "cell_type": "markdown",
      "metadata": {
        "id": "nprARONhCRUV",
        "colab_type": "text"
      },
      "source": [
        "# Task 4: I think in Binary\n",
        "We all love binary. Lets prove it this time. You need to sort a binary array.\n",
        "\n",
        "```\n",
        "input = [0,0,1,0,0,1,1,1,0,1,0,1,1,0,0,1]\n",
        "output = [0,0,0,0,0,0,0,0,1,1,1,1,1,1,1,1] or [1,1,1,1,1,1,1,1,0,0,0,0,0,0,0,0]\n",
        "```\n",
        "Bonus points:\n",
        "If you could do this without creating a new array or list i,e. inplace. Don't worry about it we will get to this later in the course. But feel free to ping me reagarding this. "
      ]
    },
    {
      "cell_type": "code",
      "metadata": {
        "id": "a1bQN9jrEQUX",
        "colab_type": "code",
        "colab": {}
      },
      "source": [
        "input = [0,0,1,0,0,1,1,1,0,1,0,1,1,0,0,1]\n",
        "\n",
        "# Your code goes here:\n",
        "\n",
        "\n",
        "\n"
      ],
      "execution_count": 0,
      "outputs": []
    },
    {
      "cell_type": "markdown",
      "metadata": {
        "id": "WpW8SsjPFRep",
        "colab_type": "text"
      },
      "source": [
        "# Submission\n",
        "\n",
        "\n",
        "\n",
        "1.   Make a copy of the this colab\n",
        "2.   Get a sharable link of the colab. Click on **Share** -> Any one in this link can **edit** -> Click on **Copy** -> Paste the link in the form below\n",
        "3.   Submit the Colab through the following link: https://forms.gle/75zSzmNEnAEcFqD8A"
      ]
    }
  ]
}